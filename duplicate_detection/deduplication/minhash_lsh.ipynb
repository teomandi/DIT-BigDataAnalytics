{
 "cells": [
  {
   "cell_type": "markdown",
   "metadata": {},
   "source": [
    "# MinHash + LSH"
   ]
  },
  {
   "cell_type": "code",
   "execution_count": 23,
   "metadata": {},
   "outputs": [],
   "source": [
    "import pandas as pd\n",
    "import numpy as np\n",
    "import re\n",
    "import time\n",
    "import pickle\n",
    "\n",
    "from sklearn.feature_extraction.text import ENGLISH_STOP_WORDS\n",
    "from nltk.stem import PorterStemmer \n",
    "from datasketch import MinHash, MinHashLSH\n",
    "from nltk.tokenize import word_tokenize\n",
    "from sklearn.feature_extraction.text import ENGLISH_STOP_WORDS\n",
    "from nltk.corpus import stopwords\n",
    "from nltk.stem import WordNetLemmatizer\n",
    "from nltk.corpus import wordnet\n",
    "import nltk\n",
    "from gensim.utils import simple_preprocess"
   ]
  },
  {
   "cell_type": "code",
   "execution_count": 24,
   "metadata": {},
   "outputs": [],
   "source": [
    "def pickle_store(obj, filename):\n",
    "    with open(filename, 'wb') as file:\n",
    "        pickle.dump(obj, file)\n",
    "\n",
    "def pickle_load(filename):\n",
    "    with open(filename, 'rb') as file:\n",
    "        return pickle.load(file)"
   ]
  },
  {
   "cell_type": "markdown",
   "metadata": {},
   "source": [
    "## Document preprocesser"
   ]
  },
  {
   "cell_type": "code",
   "execution_count": 25,
   "metadata": {},
   "outputs": [],
   "source": [
    "lmtzr = WordNetLemmatizer()\n",
    "\n",
    "def nltk2wn_tag(nltk_tag):\n",
    "  if nltk_tag.startswith('J'):\n",
    "    return wordnet.ADJ\n",
    "  elif nltk_tag.startswith('V'):\n",
    "    return wordnet.VERB\n",
    "  elif nltk_tag.startswith('N'):\n",
    "    return wordnet.NOUN\n",
    "  elif nltk_tag.startswith('R'):\n",
    "    return wordnet.ADV\n",
    "  else:    \n",
    "      return None\n",
    "\n",
    "my_stopwords = ENGLISH_STOP_WORDS.union(stopwords.words('english'))\\\n",
    "    .union(['new', 'said', 'say','need', 'come', 'good', 'set', 'want', 'people', 'use', 'day', 'week', 'know'])\n",
    "\n",
    "my_stopwords_lemma = set()\n",
    "for word, nltk_tag in nltk.pos_tag(my_stopwords):\n",
    "    tag = nltk2wn_tag(nltk_tag)\n",
    "    if tag is not None:\n",
    "        my_stopwords_lemma.add(lmtzr.lemmatize(word, tag))\n",
    "    else:\n",
    "        my_stopwords_lemma.add(word)\n",
    "        \n",
    "\n",
    "def documents_preprocess(documents):\n",
    "    new_documents = []\n",
    "    starting_tm = time.time()\n",
    "    for doc in documents:\n",
    "        clean_doc = []\n",
    "        doc_tokens = simple_preprocess(doc, deacc=True)\n",
    "        for word, nltk_tag in  nltk.pos_tag(doc_tokens):\n",
    "            tag = nltk2wn_tag(nltk_tag)\n",
    "            if tag is not None:\n",
    "                lemma = lmtzr.lemmatize(word, tag)\n",
    "                if lemma not in my_stopwords_lemma:\n",
    "                    clean_doc.append(lemma)\n",
    "            else:\n",
    "                if word not in my_stopwords_lemma:\n",
    "                    clean_doc.append(word)\n",
    "        new_documents.append(' '.join(clean_doc))\n",
    "    \n",
    "    print(\"Text Preprocessing took: \" + str(time.time() - starting_tm))\n",
    "    return new_documents"
   ]
  },
  {
   "cell_type": "code",
   "execution_count": 26,
   "metadata": {},
   "outputs": [],
   "source": [
    "def get_jaccard_sim(str1, str2): \n",
    "    a = set(str1.split()) \n",
    "    b = set(str2.split())\n",
    "    c = a.intersection(b)    \n",
    "    return float(len(c)) / (len(a) + len(b) - len(c))\n",
    "\n",
    "def simple_jacard(a, b):\n",
    "    c = a.intersection(b)    \n",
    "    return float(len(c)) / (len(a) + len(b) - len(c))"
   ]
  },
  {
   "cell_type": "markdown",
   "metadata": {},
   "source": [
    "## Building the minHash LSH function"
   ]
  },
  {
   "cell_type": "code",
   "execution_count": 33,
   "metadata": {},
   "outputs": [],
   "source": [
    "perm = 32"
   ]
  },
  {
   "cell_type": "code",
   "execution_count": 29,
   "metadata": {},
   "outputs": [],
   "source": [
    "def build_minHash_lsh(dataset):\n",
    "    build_duration = time.time()\n",
    "    ms=[]\n",
    "    for quest in dataset:\n",
    "        m = MinHash(num_perm=perm)\n",
    "        for q in set(quest.split()): #stem_tokenization\n",
    "            m.update(q.encode('utf8'))\n",
    "        ms.append(m)\n",
    "    # Create LSH index\n",
    "    lsh = MinHashLSH(threshold=0.8, num_perm=perm)\n",
    "    for i,mi in enumerate(ms):\n",
    "        lsh.insert(str(i), mi)\n",
    "    print(\"Build Duration: \", time.time()- build_duration)\n",
    "    return lsh"
   ]
  },
  {
   "cell_type": "markdown",
   "metadata": {},
   "source": [
    "---"
   ]
  },
  {
   "cell_type": "code",
   "execution_count": 4,
   "metadata": {},
   "outputs": [
    {
     "name": "stdout",
     "output_type": "stream",
     "text": [
      "Train:  531990 Test:  5374\n"
     ]
    },
    {
     "data": {
      "text/html": [
       "<div>\n",
       "<style scoped>\n",
       "    .dataframe tbody tr th:only-of-type {\n",
       "        vertical-align: middle;\n",
       "    }\n",
       "\n",
       "    .dataframe tbody tr th {\n",
       "        vertical-align: top;\n",
       "    }\n",
       "\n",
       "    .dataframe thead th {\n",
       "        text-align: right;\n",
       "    }\n",
       "</style>\n",
       "<table border=\"1\" class=\"dataframe\">\n",
       "  <thead>\n",
       "    <tr style=\"text-align: right;\">\n",
       "      <th></th>\n",
       "      <th>Id</th>\n",
       "      <th>Content</th>\n",
       "    </tr>\n",
       "  </thead>\n",
       "  <tbody>\n",
       "    <tr>\n",
       "      <th>0</th>\n",
       "      <td>0</td>\n",
       "      <td>How many people are going towards using phones...</td>\n",
       "    </tr>\n",
       "    <tr>\n",
       "      <th>1</th>\n",
       "      <td>1</td>\n",
       "      <td>What audio format should I use for getting aud...</td>\n",
       "    </tr>\n",
       "    <tr>\n",
       "      <th>2</th>\n",
       "      <td>2</td>\n",
       "      <td>What is the corporate culture like at Edwards ...</td>\n",
       "    </tr>\n",
       "    <tr>\n",
       "      <th>3</th>\n",
       "      <td>3</td>\n",
       "      <td>What is the best barbecue in Kansas City?\\n</td>\n",
       "    </tr>\n",
       "    <tr>\n",
       "      <th>4</th>\n",
       "      <td>4</td>\n",
       "      <td>\"Can I combine the output of two bolts to one ...</td>\n",
       "    </tr>\n",
       "  </tbody>\n",
       "</table>\n",
       "</div>"
      ],
      "text/plain": [
       "   Id                                            Content\n",
       "0   0  How many people are going towards using phones...\n",
       "1   1  What audio format should I use for getting aud...\n",
       "2   2  What is the corporate culture like at Edwards ...\n",
       "3   3        What is the best barbecue in Kansas City?\\n\n",
       "4   4  \"Can I combine the output of two bolts to one ..."
      ]
     },
     "execution_count": 4,
     "metadata": {},
     "output_type": "execute_result"
    }
   ],
   "source": [
    "train = pd.read_csv(\"data/corpusTrain.csv\")\n",
    "test = pd.read_csv(\"data/corpusTest.csv\")\n",
    "\n",
    "#train=train[:10000]\n",
    "#test=test[:10000]\n",
    "\n",
    "print(\"Train: \", len(train), \"Test: \", len(test))\n",
    "\n",
    "train.head()"
   ]
  },
  {
   "cell_type": "markdown",
   "metadata": {},
   "source": [
    "## Clean the Dataset"
   ]
  },
  {
   "cell_type": "code",
   "execution_count": 5,
   "metadata": {},
   "outputs": [
    {
     "name": "stdout",
     "output_type": "stream",
     "text": [
      "Text Preprocessing took: 262.40555596351624\n",
      "Text Preprocessing took: 2.6604554653167725\n"
     ]
    },
    {
     "data": {
      "text/plain": [
       "'mark college'"
      ]
     },
     "execution_count": 5,
     "metadata": {},
     "output_type": "execute_result"
    }
   ],
   "source": [
    "clean_train = documents_preprocess(train['Content'])\n",
    "clean_test = documents_preprocess(test['Content'])\n",
    "clean_test[0]"
   ]
  },
  {
   "cell_type": "code",
   "execution_count": 30,
   "metadata": {},
   "outputs": [],
   "source": [
    "clean_train = pickle_load(\"vars/full_clean_train\")\n",
    "clean_test = pickle_load(\"vars/full_clean_test\")"
   ]
  },
  {
   "cell_type": "markdown",
   "metadata": {},
   "source": [
    "## Build LSH"
   ]
  },
  {
   "cell_type": "code",
   "execution_count": 34,
   "metadata": {},
   "outputs": [
    {
     "name": "stdout",
     "output_type": "stream",
     "text": [
      "Build Duration:  85.43168044090271\n"
     ]
    }
   ],
   "source": [
    "lsh = build_minHash_lsh(clean_train)\n",
    "\n",
    "# lsh = pickle_load(\"minHash.lsh\")"
   ]
  },
  {
   "cell_type": "markdown",
   "metadata": {},
   "source": [
    "## Detect Duplicates"
   ]
  },
  {
   "cell_type": "code",
   "execution_count": 35,
   "metadata": {},
   "outputs": [
    {
     "name": "stdout",
     "output_type": "stream",
     "text": [
      "\n",
      "Queury Duration:  0.8945426940917969\n",
      "Duplicates:  12529\n"
     ]
    }
   ],
   "source": [
    "queury_duration = time.time()\n",
    "duplicates = 0\n",
    "\n",
    "for testq in clean_test:\n",
    "    mtest = MinHash(num_perm=perm)\n",
    "    for t in set(testq.split()):\n",
    "        mtest.update(t.encode('utf8'))\n",
    "    result = lsh.query(mtest)\n",
    "    if len(result) > 0:\n",
    "        duplicates += len(result)\n",
    "\n",
    "print(\"\\nQueury Duration: \", time.time()- queury_duration)\n",
    "print(\"Duplicates: \", duplicates)"
   ]
  },
  {
   "cell_type": "markdown",
   "metadata": {},
   "source": [
    "# Results\n",
    "\n",
    "## Perms: 16\n",
    "- Build Duration:  61.35 seconds\n",
    "- Queury Duration:  0.651 seconds\n",
    "- Duplicates: 13.984\n",
    "\n",
    "## Perms: 32\n",
    "- Build Duration:  86.38 seconds\n",
    "- Queury Duration:  0.887 seconds\n",
    "- Duplicates: 12.529\n",
    "\n",
    "## Perms: 64\n",
    "- Build Duration:   131.37 seconds\n",
    "- Queury Duration:   1.32 seconds\n",
    "- Duplicates: 12771\n",
    "---\n",
    "\n",
    "\n",
    "## Clean Document\n",
    "\n",
    "- train Text Preprocessing took: 262.40555596351624\n",
    "- text Text Preprocessing took: 2.6604554653167725"
   ]
  },
  {
   "cell_type": "markdown",
   "metadata": {},
   "source": [
    "---"
   ]
  },
  {
   "cell_type": "code",
   "execution_count": 7,
   "metadata": {},
   "outputs": [],
   "source": [
    "# store the lsh \n",
    "pickle_store(lsh,\"minHash.lsh\")"
   ]
  },
  {
   "cell_type": "code",
   "execution_count": null,
   "metadata": {},
   "outputs": [],
   "source": [
    "# load the lsh\n",
    "lsh = pickle_load(\"minHash.lsh\")"
   ]
  }
 ],
 "metadata": {
  "kernelspec": {
   "display_name": "Python 3",
   "language": "python",
   "name": "python3"
  },
  "language_info": {
   "codemirror_mode": {
    "name": "ipython",
    "version": 3
   },
   "file_extension": ".py",
   "mimetype": "text/x-python",
   "name": "python",
   "nbconvert_exporter": "python",
   "pygments_lexer": "ipython3",
   "version": "3.7.3"
  }
 },
 "nbformat": 4,
 "nbformat_minor": 2
}