{
 "cells": [
  {
   "cell_type": "markdown",
   "metadata": {},
   "source": [
    "# Random projection + LSH"
   ]
  },
  {
   "cell_type": "code",
   "execution_count": 2,
   "metadata": {},
   "outputs": [],
   "source": [
    "import pandas as pd\n",
    "import numpy as np\n",
    "import re\n",
    "import time\n",
    "import math\n",
    "\n",
    "from sklearn.feature_extraction.text import CountVectorizer\n",
    "from sklearn.feature_extraction.text import TfidfVectorizer\n",
    "from scipy.sparse import vstack\n",
    "\n",
    "from sklearn.feature_extraction.text import ENGLISH_STOP_WORDS\n",
    "from nltk.tokenize import word_tokenize\n",
    "from sklearn.metrics.pairwise import cosine_similarity"
   ]
  },
  {
   "cell_type": "code",
   "execution_count": 1,
   "metadata": {},
   "outputs": [],
   "source": [
    "import pickle\n",
    "def pickle_store(obj, filename):\n",
    "    with open(filename, 'wb') as file:\n",
    "        pickle.dump(obj, file)\n",
    "\n",
    "def pickle_load(filename):\n",
    "    with open(filename, 'rb') as file:\n",
    "        return pickle.load(file)"
   ]
  },
  {
   "cell_type": "markdown",
   "metadata": {},
   "source": [
    "## Document preprocesser"
   ]
  },
  {
   "cell_type": "code",
   "execution_count": 3,
   "metadata": {},
   "outputs": [],
   "source": [
    "from sklearn.feature_extraction.text import ENGLISH_STOP_WORDS\n",
    "from nltk.corpus import stopwords\n",
    "from nltk.stem import WordNetLemmatizer\n",
    "from nltk.corpus import wordnet\n",
    "import nltk\n",
    "from gensim.utils import simple_preprocess\n",
    "\n",
    "lmtzr = WordNetLemmatizer()\n",
    "\n",
    "def nltk2wn_tag(nltk_tag):\n",
    "  if nltk_tag.startswith('J'):\n",
    "    return wordnet.ADJ\n",
    "  elif nltk_tag.startswith('V'):\n",
    "    return wordnet.VERB\n",
    "  elif nltk_tag.startswith('N'):\n",
    "    return wordnet.NOUN\n",
    "  elif nltk_tag.startswith('R'):\n",
    "    return wordnet.ADV\n",
    "  else:    \n",
    "      return None\n",
    "\n",
    "my_stopwords = ENGLISH_STOP_WORDS.union(stopwords.words('english'))\\\n",
    "    .union(['new', 'said', 'say','need', 'come', 'good', 'set', 'want', 'people', 'use', 'day', 'week', 'know'])\n",
    "\n",
    "my_stopwords_lemma = set()\n",
    "for word, nltk_tag in nltk.pos_tag(my_stopwords):\n",
    "    tag = nltk2wn_tag(nltk_tag)\n",
    "    if tag is not None:\n",
    "        my_stopwords_lemma.add(lmtzr.lemmatize(word, tag))\n",
    "    else:\n",
    "        my_stopwords_lemma.add(word)\n",
    "        \n",
    "\n",
    "def documents_preprocess(documents):\n",
    "    new_documents = []\n",
    "    starting_tm = time.time()\n",
    "    for doc in documents:\n",
    "        clean_doc = []\n",
    "        doc_tokens = simple_preprocess(doc, deacc=True)\n",
    "        for word, nltk_tag in  nltk.pos_tag(doc_tokens):\n",
    "            tag = nltk2wn_tag(nltk_tag)\n",
    "            if tag is not None:\n",
    "                lemma = lmtzr.lemmatize(word, tag)\n",
    "                if lemma not in my_stopwords_lemma:\n",
    "                    clean_doc.append(lemma)\n",
    "            else:\n",
    "                if word not in my_stopwords_lemma:\n",
    "                    clean_doc.append(word)\n",
    "        new_documents.append(' '.join(clean_doc))\n",
    "    \n",
    "    print(\"Text Preprocessing took: \" + str(time.time() - starting_tm))\n",
    "    return new_documents"
   ]
  },
  {
   "cell_type": "markdown",
   "metadata": {},
   "source": [
    "## Load the dataset"
   ]
  },
  {
   "cell_type": "code",
   "execution_count": 4,
   "metadata": {},
   "outputs": [
    {
     "name": "stdout",
     "output_type": "stream",
     "text": [
      "Train:  531990 Test:  5374\n"
     ]
    }
   ],
   "source": [
    "train = pd.read_csv(\"data/corpusTrain.csv\")\n",
    "test = pd.read_csv(\"data/corpusTest.csv\")\n",
    "\n",
    "# train=train[:10000]\n",
    "# test=test[:1000]\n",
    "\n",
    "print(\"Train: \", len(train), \"Test: \", len(test))"
   ]
  },
  {
   "cell_type": "markdown",
   "metadata": {},
   "source": [
    "## Clean the dataset"
   ]
  },
  {
   "cell_type": "code",
   "execution_count": 5,
   "metadata": {},
   "outputs": [
    {
     "name": "stdout",
     "output_type": "stream",
     "text": [
      "Text Preprocessing took: 237.16527128219604\n",
      "Text Preprocessing took: 2.411177158355713\n"
     ]
    }
   ],
   "source": [
    "start = time.time()\n",
    "\n",
    "clean_train = documents_preprocess(train['Content'])\n",
    "clean_test = documents_preprocess(test['Content'])\n",
    "clean_test[0]\n",
    "\n",
    "clean_data = time.time() - start"
   ]
  },
  {
   "cell_type": "code",
   "execution_count": 8,
   "metadata": {},
   "outputs": [
    {
     "name": "stdout",
     "output_type": "stream",
     "text": "done\n"
    }
   ],
   "source": [
    "# pickle_store(clean_train, \"vars/full_clean_train\")\n",
    "# pickle_store(clean_test, \"vars/full_clean_test\")\n",
    "\n",
    "print(\"done\")\n",
    "\n",
    "clean_train = pickle_load(\"vars/full_clean_train\")\n",
    "clean_test = pickle_load(\"vars/full_clean_test\")"
   ]
  },
  {
   "cell_type": "markdown",
   "metadata": {},
   "source": [
    "## Vectorize"
   ]
  },
  {
   "cell_type": "code",
   "execution_count": 9,
   "metadata": {},
   "outputs": [
    {
     "name": "stdout",
     "output_type": "stream",
     "text": "Vectorization Time:  3.1966867446899414\n"
    }
   ],
   "source": [
    "vectorizer = CountVectorizer()\n",
    "\n",
    "start = time.time()\n",
    "\n",
    "vtrain = vectorizer.fit_transform(clean_train)\n",
    "vtest = vectorizer.transform(clean_test)\n",
    "\n",
    "print(\"Vectorization Time: \", time.time()-start)"
   ]
  },
  {
   "cell_type": "code",
   "execution_count": 4,
   "metadata": {},
   "outputs": [],
   "source": [
    "# pickle_store(vtrain, \"vars/vtrain_countFull\")\n",
    "# pickle_store(vtest, \"vars/vtest_countFull\")\n",
    "\n",
    "vtrain = pickle_load(\"vars/vtrain_countFull\")\n",
    "vtest = pickle_load(\"vars/vtest_countFull\")"
   ]
  },
  {
   "cell_type": "markdown",
   "metadata": {},
   "source": [
    "# Random Projection\n"
   ]
  },
  {
   "cell_type": "code",
   "execution_count": 5,
   "metadata": {},
   "outputs": [],
   "source": [
    "def get_signature(given_vector, rand_proj): \n",
    "    res = 0\n",
    "    for p in (rand_proj):\n",
    "        res = res << 1\n",
    "        val = np.dot(p, given_vector)\n",
    "        if val >= 0:\n",
    "            res |= 1\n",
    "    return res\n",
    "\n",
    "# Hash Table: {\"HashCode\":\"sparse matrix with the vectors\"}\n",
    "def build_hash_table(vtrain, dim, k, randv):\n",
    "    hash_table = {}\n",
    "\n",
    "    for v in vtrain:\n",
    "\n",
    "        r = get_signature(v.toarray()[0], randv)\n",
    "        if r in hash_table:\n",
    "            hash_table[r] = vstack((hash_table[r], v))\n",
    "        else:\n",
    "            hash_table[r] = v\n",
    "    return hash_table"
   ]
  },
  {
   "cell_type": "markdown",
   "metadata": {},
   "source": [
    "# K: 1      v: 10, 9, 8, 7, 6, 5, 4, 3, 2, 1"
   ]
  },
  {
   "cell_type": "code",
   "execution_count": 41,
   "metadata": {},
   "outputs": [],
   "source": [
    "k = 3"
   ]
  },
  {
   "cell_type": "markdown",
   "metadata": {},
   "source": [
    "## Build the hash table"
   ]
  },
  {
   "cell_type": "code",
   "execution_count": 42,
   "metadata": {},
   "outputs": [],
   "source": [
    "# get the dimention\n",
    "d = len(vectorizer.get_feature_names())\n",
    "\n",
    "# get the random dividors\n",
    "randv = np.random.randn(k, d)\n",
    "\n",
    "# get the hash table with LSH\n",
    "hash_table = build_hash_table(vtrain, d, k, randv)\n",
    "\n",
    "build_time = time.time() - start\n",
    "print(\"Built: \", build_time, \" Hash: \", len(hash_table))\n"
   ]
  },
  {
   "cell_type": "markdown",
   "metadata": {},
   "source": [
    "## Queury"
   ]
  },
  {
   "cell_type": "code",
   "execution_count": null,
   "metadata": {},
   "outputs": [],
   "source": [
    "start = time.time()\n",
    "duplicates = 0 \n",
    "\n",
    "for vt in vtest:\n",
    "\n",
    "    r = get_signature( vt.toarray()[0], randv)\n",
    "    \n",
    "    if r in hash_table:\n",
    "        results = cosine_similarity(vt, hash_table[r])\n",
    "        duplicates += (results > 0.8).sum()\n",
    "\n",
    "q_time = time.time()- start\n",
    "print(\"queue: \", q_time)"
   ]
  },
  {
   "cell_type": "code",
   "execution_count": null,
   "metadata": {},
   "outputs": [],
   "source": [
    "duplicates"
   ]
  },
  {
   "cell_type": "markdown",
   "metadata": {},
   "source": [
    "---"
   ]
  },
  {
   "cell_type": "markdown",
   "metadata": {},
   "source": [
    "### The end"
   ]
  },
  {
   "cell_type": "code",
   "execution_count": null,
   "metadata": {},
   "outputs": [],
   "source": []
  }
 ],
 "metadata": {
  "kernelspec": {
   "display_name": "Python 3",
   "language": "python",
   "name": "python3"
  },
  "language_info": {
   "codemirror_mode": {
    "name": "ipython",
    "version": 3
   },
   "file_extension": ".py",
   "mimetype": "text/x-python",
   "name": "python",
   "nbconvert_exporter": "python",
   "pygments_lexer": "ipython3",
   "version": "3.7.3-final"
  }
 },
 "nbformat": 4,
 "nbformat_minor": 2
}