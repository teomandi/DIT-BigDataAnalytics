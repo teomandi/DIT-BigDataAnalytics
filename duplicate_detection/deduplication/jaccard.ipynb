{
  "nbformat": 4,
  "nbformat_minor": 0,
  "metadata": {
    "kernelspec": {
      "display_name": "Python 3",
      "language": "python",
      "name": "python3"
    },
    "language_info": {
      "codemirror_mode": {
        "name": "ipython",
        "version": 3
      },
      "file_extension": ".py",
      "mimetype": "text/x-python",
      "name": "python",
      "nbconvert_exporter": "python",
      "pygments_lexer": "ipython3",
      "version": "3.7.5-final"
    },
    "colab": {
      "name": "jacard.ipynb",
      "provenance": [],
      "collapsed_sections": []
    }
  },
  "cells": [
    {
      "cell_type": "markdown",
      "metadata": {},
      "source": [
        "# Exact Jaccard"
      ]
    },
    {
      "cell_type": "code",
      "execution_count": 0,
      "metadata": {
        "colab": {},
        "colab_type": "code",
        "id": "xwFk3FEJnaQL"
      },
      "outputs": [],
      "source": [
        "import pandas as pd\n",
        "import numpy as np\n",
        "import re\n",
        "import time\n",
        "\n",
        "from sklearn.feature_extraction.text import ENGLISH_STOP_WORDS\n",
        "from nltk.tokenize import word_tokenize\n",
        "from nltk.stem import PorterStemmer "
      ]
    },
    {
      "cell_type": "code",
      "execution_count": 3,
      "metadata": {
        "colab": {
          "base_uri": "https://localhost:8080/",
          "height": 124
        },
        "colab_type": "code",
        "id": "Me0D3_pXoSPG",
        "outputId": "dcb76f21-6486-40fa-8f21-3beb3f2c3b31"
      },
      "outputs": [
        {
          "name": "stdout",
          "output_type": "stream",
          "text": [
            "Go to this URL in a browser: https://accounts.google.com/o/oauth2/auth?client_id=947318989803-6bn6qk8qdgf4n4g3pfee6491hc0brc4i.apps.googleusercontent.com&redirect_uri=urn%3aietf%3awg%3aoauth%3a2.0%3aoob&response_type=code&scope=email%20https%3a%2f%2fwww.googleapis.com%2fauth%2fdocs.test%20https%3a%2f%2fwww.googleapis.com%2fauth%2fdrive%20https%3a%2f%2fwww.googleapis.com%2fauth%2fdrive.photos.readonly%20https%3a%2f%2fwww.googleapis.com%2fauth%2fpeopleapi.readonly\n",
            "\n",
            "Enter your authorization code:\n",
            "··········\n",
            "Mounted at /content/drive\n"
          ]
        }
      ],
      "source": [
        "from google.colab import drive\n",
        "drive.mount('/content/drive')"
      ]
    },
    {
      "cell_type": "code",
      "execution_count": 4,
      "metadata": {
        "colab": {
          "base_uri": "https://localhost:8080/",
          "height": 156
        },
        "colab_type": "code",
        "id": "kmwPq2eapT-Z",
        "outputId": "7916b2d6-b275-4b90-98ea-297719d1d2a3"
      },
      "outputs": [
        {
          "name": "stdout",
          "output_type": "stream",
          "text": [
            "[nltk_data] Downloading package stopwords to /root/nltk_data...\n",
            "[nltk_data]   Unzipping corpora/stopwords.zip.\n",
            "[nltk_data] Downloading package averaged_perceptron_tagger to\n",
            "[nltk_data]     /root/nltk_data...\n",
            "[nltk_data]   Unzipping taggers/averaged_perceptron_tagger.zip.\n",
            "[nltk_data] Downloading package wordnet to /root/nltk_data...\n",
            "[nltk_data]   Unzipping corpora/wordnet.zip.\n"
          ]
        },
        {
          "data": {
            "text/plain": [
              "True"
            ]
          },
          "execution_count": 4,
          "metadata": {
            "tags": []
          },
          "output_type": "execute_result"
        }
      ],
      "source": [
        "import nltk \n",
        "nltk.download('stopwords')\n",
        "nltk.download('averaged_perceptron_tagger')\n",
        "nltk.download('wordnet')"
      ]
    },
    {
      "cell_type": "markdown",
      "metadata": {},
      "source": [
        "## Document preprocesser"
      ]
    },
    {
      "cell_type": "code",
      "execution_count": 0,
      "metadata": {
        "colab": {},
        "colab_type": "code",
        "id": "W321USSlnaQu"
      },
      "outputs": [],
      "source": [
        "from sklearn.feature_extraction.text import ENGLISH_STOP_WORDS\n",
        "from nltk.corpus import stopwords\n",
        "from nltk.stem import WordNetLemmatizer\n",
        "from nltk.corpus import wordnet\n",
        "import nltk\n",
        "from gensim.utils import simple_preprocess\n",
        "\n",
        "lmtzr = WordNetLemmatizer()\n",
        "\n",
        "def nltk2wn_tag(nltk_tag):\n",
        "  if nltk_tag.startswith('J'):\n",
        "    return wordnet.ADJ\n",
        "  elif nltk_tag.startswith('V'):\n",
        "    return wordnet.VERB\n",
        "  elif nltk_tag.startswith('N'):\n",
        "    return wordnet.NOUN\n",
        "  elif nltk_tag.startswith('R'):\n",
        "    return wordnet.ADV\n",
        "  else:    \n",
        "      return None\n",
        "\n",
        "my_stopwords = ENGLISH_STOP_WORDS.union(stopwords.words('english'))\\\n",
        "    .union(['new', 'said', 'say','need', 'come', 'good', 'set', 'want', 'people', 'use', 'day', 'week', 'know'])\n",
        "\n",
        "my_stopwords_lemma = set()\n",
        "for word, nltk_tag in nltk.pos_tag(my_stopwords):\n",
        "    tag = nltk2wn_tag(nltk_tag)\n",
        "    if tag is not None:\n",
        "        my_stopwords_lemma.add(lmtzr.lemmatize(word, tag))\n",
        "    else:\n",
        "        my_stopwords_lemma.add(word)\n",
        "        \n",
        "\n",
        "def documents_preprocess(documents):\n",
        "    new_documents = []\n",
        "    starting_tm = time.time()\n",
        "    for doc in documents:\n",
        "        clean_doc = []\n",
        "        doc_tokens = simple_preprocess(doc, deacc=True)\n",
        "        for word, nltk_tag in  nltk.pos_tag(doc_tokens):\n",
        "            tag = nltk2wn_tag(nltk_tag)\n",
        "            if tag is not None:\n",
        "                lemma = lmtzr.lemmatize(word, tag)\n",
        "                if lemma not in my_stopwords_lemma:\n",
        "                    clean_doc.append(lemma)\n",
        "            else:\n",
        "                if word not in my_stopwords_lemma:\n",
        "                    clean_doc.append(word)\n",
        "        new_documents.append(' '.join(clean_doc))\n",
        "    \n",
        "    print(\"Text Preprocessing took: \" + str(time.time() - starting_tm))\n",
        "    return new_documents\n",
        "\n",
        "def get_jaccard_sim(str1, str2): \n",
        "    a = set(str1.split()) \n",
        "    b = set(str2.split())\n",
        "    c = a.intersection(b)    \n",
        "    return float(len(c)) / (len(a) + len(b) - len(c))\n",
        "\n",
        "def simple_jaccard(a, b):\n",
        "    c = a.intersection(b)    \n",
        "    return float(len(c)) / (len(a) + len(b) - len(c))\n",
        "\n",
        "import pickle\n",
        "def pickle_store(obj, filename):\n",
        "    with open(filename, 'wb') as file:\n",
        "        pickle.dump(obj, file)\n",
        "\n",
        "def pickle_load(filename):\n",
        "    with open(filename, 'rb') as file:\n",
        "        return pickle.load(file)"
      ]
    },
    {
      "cell_type": "markdown",
      "metadata": {},
      "source": [
        "## Load the dataset"
      ]
    },
    {
      "cell_type": "code",
      "execution_count": 6,
      "metadata": {
        "colab": {
          "base_uri": "https://localhost:8080/",
          "height": 224
        },
        "colab_type": "code",
        "id": "MTb_YRJ4naRH",
        "outputId": "4d69e717-da13-4db1-eb75-96f8d71cc016"
      },
      "outputs": [
        {
          "name": "stdout",
          "output_type": "stream",
          "text": [
            "Train:  531990 Test:  5374\n"
          ]
        },
        {
          "data": {
            "text/html": [
              "<div>\n",
              "<style scoped>\n",
              "    .dataframe tbody tr th:only-of-type {\n",
              "        vertical-align: middle;\n",
              "    }\n",
              "\n",
              "    .dataframe tbody tr th {\n",
              "        vertical-align: top;\n",
              "    }\n",
              "\n",
              "    .dataframe thead th {\n",
              "        text-align: right;\n",
              "    }\n",
              "</style>\n",
              "<table border=\"1\" class=\"dataframe\">\n",
              "  <thead>\n",
              "    <tr style=\"text-align: right;\">\n",
              "      <th></th>\n",
              "      <th>Id</th>\n",
              "      <th>Content</th>\n",
              "    </tr>\n",
              "  </thead>\n",
              "  <tbody>\n",
              "    <tr>\n",
              "      <th>0</th>\n",
              "      <td>0</td>\n",
              "      <td>How many people are going towards using phones...</td>\n",
              "    </tr>\n",
              "    <tr>\n",
              "      <th>1</th>\n",
              "      <td>1</td>\n",
              "      <td>What audio format should I use for getting aud...</td>\n",
              "    </tr>\n",
              "    <tr>\n",
              "      <th>2</th>\n",
              "      <td>2</td>\n",
              "      <td>What is the corporate culture like at Edwards ...</td>\n",
              "    </tr>\n",
              "    <tr>\n",
              "      <th>3</th>\n",
              "      <td>3</td>\n",
              "      <td>What is the best barbecue in Kansas City?\\n</td>\n",
              "    </tr>\n",
              "    <tr>\n",
              "      <th>4</th>\n",
              "      <td>4</td>\n",
              "      <td>\"Can I combine the output of two bolts to one ...</td>\n",
              "    </tr>\n",
              "  </tbody>\n",
              "</table>\n",
              "</div>"
            ],
            "text/plain": [
              "   Id                                            Content\n",
              "0   0  How many people are going towards using phones...\n",
              "1   1  What audio format should I use for getting aud...\n",
              "2   2  What is the corporate culture like at Edwards ...\n",
              "3   3        What is the best barbecue in Kansas City?\\n\n",
              "4   4  \"Can I combine the output of two bolts to one ..."
            ]
          },
          "execution_count": 6,
          "metadata": {
            "tags": []
          },
          "output_type": "execute_result"
        }
      ],
      "source": [
        "train = pd.read_csv(\"data/corpusTrain.csv\")\n",
        "test = pd.read_csv(\"data/corpusTest.csv\")\n",
        "\n",
        "# train = pd.read_csv(\"/content/drive/My Drive/corpusTrain.csv\")\n",
        "# test = pd.read_csv(\"/content/drive/My Drive/corpusTest.csv\")\n",
        "\n",
        "#train=train[:10000]\n",
        "#test=test[:10000]\n",
        "print(\"Train: \", len(train), \"Test: \", len(test))\n",
        "\n",
        "train.head()"
      ]
    },
    {
      "cell_type": "markdown",
      "metadata": {},
      "source": [
        "## Clean the dataset"
      ]
    },
    {
      "cell_type": "code",
      "execution_count": 7,
      "metadata": {
        "colab": {
          "base_uri": "https://localhost:8080/",
          "height": 69
        },
        "colab_type": "code",
        "id": "fW22SsAInaRd",
        "outputId": "6503502f-f88d-414a-e933-112376781441"
      },
      "outputs": [
        {
          "name": "stdout",
          "output_type": "stream",
          "text": [
            "Text Preprocessing took: 368.04343342781067\n",
            "Text Preprocessing took: 3.706369400024414\n"
          ]
        },
        {
          "data": {
            "text/plain": [
              "'mark college'"
            ]
          },
          "execution_count": 7,
          "metadata": {
            "tags": []
          },
          "output_type": "execute_result"
        }
      ],
      "source": [
        "clean_train = documents_preprocess(train['Content'])\n",
        "clean_test = documents_preprocess(test['Content'])\n",
        "clean_test[0]"
      ]
    },
    {
      "cell_type": "code",
      "execution_count": 0,
      "metadata": {
        "colab": {},
        "colab_type": "code",
        "id": "9n98OvMGnaRu"
      },
      "outputs": [],
      "source": [
        "clean_train = pickle_load(\"clean_train\")\n",
        "clean_test = pickle_load(\"clean_test\")"
      ]
    },
    {
      "cell_type": "markdown",
      "metadata": {},
      "source": [
        "## Compare with Jaccard"
      ]
    },
    {
      "cell_type": "code",
      "execution_count": 2,
      "metadata": {},
      "outputs": [
        {
          "name": "stdout",
          "output_type": "stream",
          "text": "\n"
        }
      ],
      "source": [
        "duplicates = 0\n",
        "t1 = time.time()\n",
        "\n",
        "for index,y in enumerate(clean_test):\n",
        "\n",
        "    ti = time.time()\n",
        "    A = set(y.split())\n",
        "    if( len(A) == 0): continue\n",
        "        \n",
        "    for x in clean_train:\n",
        "        \n",
        "        B = set(x.split())\n",
        "        if( len(B) == 0 ): continue\n",
        "        \n",
        "        results = simple_jaccard(A, B)\n",
        "\n",
        "        if results > 0.8:\n",
        "            duplicates += 1\n",
        "\n",
        "    itertime = time.time() - ti\n",
        "    #print(\"ITER: \", index, \" from \" , len(test), \" took \", itertime, \" Duplicates: \", duplicates)\n",
        "\n",
        "duration = time.time() - t1"
      ]
    },
    {
      "cell_type": "markdown",
      "metadata": {
        "colab_type": "text",
        "id": "RkIjB5YpnaSQ"
      },
      "source": [
        "## Results"
      ]
    },
    {
      "cell_type": "code",
      "execution_count": 10,
      "metadata": {
        "colab": {
          "base_uri": "https://localhost:8080/",
          "height": 34
        },
        "colab_type": "code",
        "id": "-T1BcXlunaSc",
        "outputId": "bd781d73-9ba5-4903-8ab1-d0b442ffb0ca"
      },
      "outputs": [
        {
          "name": "stdout",
          "output_type": "stream",
          "text": [
            "Duplicates:  5644\n"
          ]
        }
      ],
      "source": [
        "# print(\"Duration (s): \", duration)\n",
        "print(\"Duplicates: \", duplicates)"
      ]
    },
    {
      "cell_type": "markdown",
      "metadata": {
        "colab_type": "text",
        "id": "X4pS08vanaSj"
      },
      "source": [
        "Duration (s):  5462.53768324852  Duplicates:  5644"
      ]
    },
    {
      "cell_type": "markdown",
      "metadata": {
        "colab": {},
        "colab_type": "code",
        "id": "sYEzWcsXnaSo"
      },
      "source": [
        "---"
      ]
    },
    {
      "cell_type": "code",
      "execution_count": null,
      "metadata": {},
      "outputs": [],
      "source": []
    }
  ]
}